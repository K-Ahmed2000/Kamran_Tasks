{
 "cells": [
  {
   "cell_type": "markdown",
   "metadata": {},
   "source": [
    "### Personal Details\n",
    "\n",
    "Title = Engr\n",
    "\n",
    "Name = Kamran Ahmed\n",
    "\n",
    "Email = ka123738@gmail.com\n",
    "\n",
    "Whatsapp = +923122707746\n",
    "\n",
    "From = Pakistan"
   ]
  }
 ],
 "metadata": {
  "kernelspec": {
   "display_name": "Python 3",
   "language": "python",
   "name": "python3"
  },
  "language_info": {
   "name": "python",
   "version": "3.11.1 (tags/v3.11.1:a7a450f, Dec  6 2022, 19:58:39) [MSC v.1934 64 bit (AMD64)]"
  },
  "orig_nbformat": 4,
  "vscode": {
   "interpreter": {
    "hash": "e2c3252997d46c1dccb096317d5e67c9445349c9f923f8e6dd4eee88b60d736d"
   }
  }
 },
 "nbformat": 4,
 "nbformat_minor": 2
}
